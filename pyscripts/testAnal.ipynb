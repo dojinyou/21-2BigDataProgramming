{
 "cells": [
  {
   "cell_type": "code",
   "execution_count": 1,
   "metadata": {},
   "outputs": [],
   "source": [
    "import pandas as pd"
   ]
  },
  {
   "cell_type": "code",
   "execution_count": 21,
   "metadata": {},
   "outputs": [
    {
     "data": {
      "text/html": [
       "<div>\n",
       "<style scoped>\n",
       "    .dataframe tbody tr th:only-of-type {\n",
       "        vertical-align: middle;\n",
       "    }\n",
       "\n",
       "    .dataframe tbody tr th {\n",
       "        vertical-align: top;\n",
       "    }\n",
       "\n",
       "    .dataframe thead th {\n",
       "        text-align: right;\n",
       "    }\n",
       "</style>\n",
       "<table border=\"1\" class=\"dataframe\">\n",
       "  <thead>\n",
       "    <tr style=\"text-align: right;\">\n",
       "      <th></th>\n",
       "      <th>Unnamed: 0</th>\n",
       "      <th>직무명</th>\n",
       "      <th>회사명</th>\n",
       "      <th>위치</th>\n",
       "      <th>조건텍스트</th>\n",
       "    </tr>\n",
       "  </thead>\n",
       "  <tbody>\n",
       "    <tr>\n",
       "      <th>0</th>\n",
       "      <td>0</td>\n",
       "      <td>앱 개발자</td>\n",
       "      <td>인포메이드</td>\n",
       "      <td>서울.한국</td>\n",
       "      <td>●처음 들어보시죠? 인포메이드는요!\\n‘IT 기술로 모두의 일상을 더 즐겁게 만들자...</td>\n",
       "    </tr>\n",
       "    <tr>\n",
       "      <th>1</th>\n",
       "      <td>1</td>\n",
       "      <td>iOS 앱 개발자</td>\n",
       "      <td>시큐차트</td>\n",
       "      <td>서울.한국</td>\n",
       "      <td>시큐차트는 악성앱을 잡는 새로운 방식의 엔진을 개발하여, \\n국내의 주요 금융사에 ...</td>\n",
       "    </tr>\n",
       "    <tr>\n",
       "      <th>2</th>\n",
       "      <td>2</td>\n",
       "      <td>웹 퍼블리셔</td>\n",
       "      <td>휴먼컨설팅그룹</td>\n",
       "      <td>서울.한국</td>\n",
       "      <td>【회사 소개】\\n휴먼컨설팅그룹(HCG)은 2001년 설립되어 국내 HR 시장을 선도...</td>\n",
       "    </tr>\n",
       "    <tr>\n",
       "      <th>3</th>\n",
       "      <td>3</td>\n",
       "      <td>모바일 앱 개발자(Mobile Software Engineer)</td>\n",
       "      <td>트리플콤마(골드스푼)</td>\n",
       "      <td>서울.한국</td>\n",
       "      <td>• 트리플콤마는 국내 최초 서류인증 기반 프리미엄 매칭 서비스인 ‘골드스푼’ 을 개...</td>\n",
       "    </tr>\n",
       "    <tr>\n",
       "      <th>4</th>\n",
       "      <td>4</td>\n",
       "      <td>웹개발자</td>\n",
       "      <td>크리에이트잇</td>\n",
       "      <td>서울.한국</td>\n",
       "      <td>우리는 2018년 시작되어 아직 시작하는 회사입니다.\\n\\n과거 디지털 에이전시로 ...</td>\n",
       "    </tr>\n",
       "  </tbody>\n",
       "</table>\n",
       "</div>"
      ],
      "text/plain": [
       "   Unnamed: 0                                  직무명          회사명     위치  \\\n",
       "0           0                                앱 개발자        인포메이드  서울.한국   \n",
       "1           1                            iOS 앱 개발자         시큐차트  서울.한국   \n",
       "2           2                               웹 퍼블리셔      휴먼컨설팅그룹  서울.한국   \n",
       "3           3  모바일 앱 개발자(Mobile Software Engineer)  트리플콤마(골드스푼)  서울.한국   \n",
       "4           4                                 웹개발자       크리에이트잇  서울.한국   \n",
       "\n",
       "                                               조건텍스트  \n",
       "0  ●처음 들어보시죠? 인포메이드는요!\\n‘IT 기술로 모두의 일상을 더 즐겁게 만들자...  \n",
       "1  시큐차트는 악성앱을 잡는 새로운 방식의 엔진을 개발하여, \\n국내의 주요 금융사에 ...  \n",
       "2  【회사 소개】\\n휴먼컨설팅그룹(HCG)은 2001년 설립되어 국내 HR 시장을 선도...  \n",
       "3  • 트리플콤마는 국내 최초 서류인증 기반 프리미엄 매칭 서비스인 ‘골드스푼’ 을 개...  \n",
       "4  우리는 2018년 시작되어 아직 시작하는 회사입니다.\\n\\n과거 디지털 에이전시로 ...  "
      ]
     },
     "execution_count": 21,
     "metadata": {},
     "output_type": "execute_result"
    }
   ],
   "source": [
    "origin_df = pd.read_csv('../data/data.csv')\n",
    "origin_df.head()"
   ]
  },
  {
   "cell_type": "code",
   "execution_count": 6,
   "metadata": {},
   "outputs": [
    {
     "data": {
      "text/plain": [
       "460"
      ]
     },
     "execution_count": 6,
     "metadata": {},
     "output_type": "execute_result"
    }
   ],
   "source": [
    "text_list = list(origin_df['조건텍스트'].values)\n",
    "len(text_list)"
   ]
  },
  {
   "cell_type": "code",
   "execution_count": 10,
   "metadata": {},
   "outputs": [
    {
     "name": "stdout",
     "output_type": "stream",
     "text": [
      "자격 : 460\n",
      "자격요건 : 460\n",
      "우대 : 455\n",
      "우대사항 : 453\n"
     ]
    }
   ],
   "source": [
    "text_cnt = len(text_list)\n",
    "count_text = {'자격':[False]*text_cnt,'자격요건':[False]*text_cnt,'우대':[False]*text_cnt, '우대사항':[False]*text_cnt}\n",
    "for i,text in enumerate(text_list):\n",
    "  for key in count_text.keys():\n",
    "    if key in text :\n",
    "      count_text[key][i] = True\n",
    "for k, v in count_text.items():\n",
    "  print(f'{k} : {sum(v)}')\n"
   ]
  },
  {
   "cell_type": "code",
   "execution_count": 13,
   "metadata": {},
   "outputs": [
    {
     "data": {
      "text/plain": [
       "'d'"
      ]
     },
     "execution_count": 13,
     "metadata": {},
     "output_type": "execute_result"
    }
   ],
   "source": [
    "'abcd'[3:4]"
   ]
  },
  {
   "cell_type": "code",
   "execution_count": 26,
   "metadata": {},
   "outputs": [],
   "source": [
    "def getSubText(text):\n",
    "  contents = {'자격요건':'', '우대사항':'', '혜택 및 복지':''}\n",
    "  index = {}\n",
    "  index['end'] = len(text)\n",
    "\n",
    "  for key in contents.keys():\n",
    "    if key in text :\n",
    "      index[key] = text.index(key)+len(key)\n",
    "  \n",
    "  prev_key = False\n",
    "  prev_index = False\n",
    "  for k, idx in sorted(index.items(),key=lambda x:x[1]):\n",
    "    if (prev_key and prev_index) :\n",
    "      contents[prev_key] = text[prev_index:idx]\n",
    "    prev_key = k\n",
    "    prev_index = idx\n",
    "  return contents\n",
    "\n",
    "  "
   ]
  },
  {
   "cell_type": "code",
   "execution_count": 28,
   "metadata": {},
   "outputs": [
    {
     "data": {
      "text/plain": [
       "0    \\n인포메이드의 신규 어플은 서버는 Java, 프론트는 제이쿼리/자바스크립트를 이용...\n",
       "1    \\n• iOS 앱 개발 경력 3년 이상 \\n• Swift/Objective-C의 기...\n",
       "2    \\n• Javascript, HTML, CSS3, 접근성, 반응형 웹에 대한 이해도...\n",
       "3    \\n- 개발 경력 3년 이상 혹은 그에 준하는 실력을 보유한 분을 찾습니다.\\n- ...\n",
       "4    \\n• 사용자를 배려하고 새로운 기술, 개념을 두려워하지 않고 꾸준히 노력하는 분\\...\n",
       "Name: 자격요건, dtype: object"
      ]
     },
     "execution_count": 28,
     "metadata": {},
     "output_type": "execute_result"
    }
   ],
   "source": [
    "for colname in ['자격요건', '우대사항']:\n",
    "  origin_df[colname] = origin_df['조건텍스트'].apply(lambda x:getSubText(x)[colname])\n",
    "origin_df['자격요건'].head()"
   ]
  },
  {
   "cell_type": "code",
   "execution_count": 29,
   "metadata": {},
   "outputs": [
    {
     "name": "stdout",
     "output_type": "stream",
     "text": [
      "<class 'pandas.core.frame.DataFrame'>\n",
      "RangeIndex: 460 entries, 0 to 459\n",
      "Data columns (total 7 columns):\n",
      " #   Column      Non-Null Count  Dtype \n",
      "---  ------      --------------  ----- \n",
      " 0   Unnamed: 0  460 non-null    int64 \n",
      " 1   직무명         460 non-null    object\n",
      " 2   회사명         460 non-null    object\n",
      " 3   위치          460 non-null    object\n",
      " 4   조건텍스트       460 non-null    object\n",
      " 5   자격요건        460 non-null    object\n",
      " 6   우대사항        460 non-null    object\n",
      "dtypes: int64(1), object(6)\n",
      "memory usage: 25.3+ KB\n"
     ]
    }
   ],
   "source": [
    "origin_df.info()"
   ]
  },
  {
   "cell_type": "code",
   "execution_count": 30,
   "metadata": {},
   "outputs": [
    {
     "data": {
      "text/html": [
       "<div>\n",
       "<style scoped>\n",
       "    .dataframe tbody tr th:only-of-type {\n",
       "        vertical-align: middle;\n",
       "    }\n",
       "\n",
       "    .dataframe tbody tr th {\n",
       "        vertical-align: top;\n",
       "    }\n",
       "\n",
       "    .dataframe thead th {\n",
       "        text-align: right;\n",
       "    }\n",
       "</style>\n",
       "<table border=\"1\" class=\"dataframe\">\n",
       "  <thead>\n",
       "    <tr style=\"text-align: right;\">\n",
       "      <th></th>\n",
       "      <th>직무명</th>\n",
       "      <th>회사명</th>\n",
       "      <th>위치</th>\n",
       "      <th>자격요건</th>\n",
       "      <th>우대사항</th>\n",
       "    </tr>\n",
       "  </thead>\n",
       "  <tbody>\n",
       "    <tr>\n",
       "      <th>0</th>\n",
       "      <td>앱 개발자</td>\n",
       "      <td>인포메이드</td>\n",
       "      <td>서울.한국</td>\n",
       "      <td>\\n인포메이드의 신규 어플은 서버는 Java, 프론트는 제이쿼리/자바스크립트를 이용...</td>\n",
       "      <td>\\n• Javascript 기반의 UI Component 활용 경험자\\n• 하이브리...</td>\n",
       "    </tr>\n",
       "    <tr>\n",
       "      <th>1</th>\n",
       "      <td>iOS 앱 개발자</td>\n",
       "      <td>시큐차트</td>\n",
       "      <td>서울.한국</td>\n",
       "      <td>\\n• iOS 앱 개발 경력 3년 이상 \\n• Swift/Objective-C의 기...</td>\n",
       "      <td>\\n• iOS 앱 개발 리딩 경험\\n혜택 및 복지\\n• 자유로운 연차/반차 사용\\n...</td>\n",
       "    </tr>\n",
       "    <tr>\n",
       "      <th>2</th>\n",
       "      <td>웹 퍼블리셔</td>\n",
       "      <td>휴먼컨설팅그룹</td>\n",
       "      <td>서울.한국</td>\n",
       "      <td>\\n• Javascript, HTML, CSS3, 접근성, 반응형 웹에 대한 이해도...</td>\n",
       "      <td>\\n• 원할한 커뮤니케이션과 협업 능력자\\n• HR관련 유경험자\\n혜택 및 복지\\n...</td>\n",
       "    </tr>\n",
       "    <tr>\n",
       "      <th>3</th>\n",
       "      <td>모바일 앱 개발자(Mobile Software Engineer)</td>\n",
       "      <td>트리플콤마(골드스푼)</td>\n",
       "      <td>서울.한국</td>\n",
       "      <td>\\n- 개발 경력 3년 이상 혹은 그에 준하는 실력을 보유한 분을 찾습니다.\\n- ...</td>\n",
       "      <td>\\n- 고객 경험 중심으로 생각하며 원활한 커뮤니케이션이 가능하신 분\\n- 기술로써...</td>\n",
       "    </tr>\n",
       "    <tr>\n",
       "      <th>4</th>\n",
       "      <td>웹개발자</td>\n",
       "      <td>크리에이트잇</td>\n",
       "      <td>서울.한국</td>\n",
       "      <td>\\n• 사용자를 배려하고 새로운 기술, 개념을 두려워하지 않고 꾸준히 노력하는 분\\...</td>\n",
       "      <td>\\n• 기본적인 배려와 센스가 있는 분\\n• 사용자의 니즈, 동기, 태도, 행위를 ...</td>\n",
       "    </tr>\n",
       "  </tbody>\n",
       "</table>\n",
       "</div>"
      ],
      "text/plain": [
       "                                   직무명          회사명     위치  \\\n",
       "0                                앱 개발자        인포메이드  서울.한국   \n",
       "1                            iOS 앱 개발자         시큐차트  서울.한국   \n",
       "2                               웹 퍼블리셔      휴먼컨설팅그룹  서울.한국   \n",
       "3  모바일 앱 개발자(Mobile Software Engineer)  트리플콤마(골드스푼)  서울.한국   \n",
       "4                                 웹개발자       크리에이트잇  서울.한국   \n",
       "\n",
       "                                                자격요건  \\\n",
       "0  \\n인포메이드의 신규 어플은 서버는 Java, 프론트는 제이쿼리/자바스크립트를 이용...   \n",
       "1  \\n• iOS 앱 개발 경력 3년 이상 \\n• Swift/Objective-C의 기...   \n",
       "2  \\n• Javascript, HTML, CSS3, 접근성, 반응형 웹에 대한 이해도...   \n",
       "3  \\n- 개발 경력 3년 이상 혹은 그에 준하는 실력을 보유한 분을 찾습니다.\\n- ...   \n",
       "4  \\n• 사용자를 배려하고 새로운 기술, 개념을 두려워하지 않고 꾸준히 노력하는 분\\...   \n",
       "\n",
       "                                                우대사항  \n",
       "0  \\n• Javascript 기반의 UI Component 활용 경험자\\n• 하이브리...  \n",
       "1  \\n• iOS 앱 개발 리딩 경험\\n혜택 및 복지\\n• 자유로운 연차/반차 사용\\n...  \n",
       "2  \\n• 원할한 커뮤니케이션과 협업 능력자\\n• HR관련 유경험자\\n혜택 및 복지\\n...  \n",
       "3  \\n- 고객 경험 중심으로 생각하며 원활한 커뮤니케이션이 가능하신 분\\n- 기술로써...  \n",
       "4  \\n• 기본적인 배려와 센스가 있는 분\\n• 사용자의 니즈, 동기, 태도, 행위를 ...  "
      ]
     },
     "execution_count": 30,
     "metadata": {},
     "output_type": "execute_result"
    }
   ],
   "source": [
    "save_df = origin_df.drop(axis=1, columns=['Unnamed: 0', '조건텍스트'])\n",
    "save_df.head()"
   ]
  },
  {
   "cell_type": "code",
   "execution_count": 31,
   "metadata": {},
   "outputs": [],
   "source": [
    "save_df.to_csv('../data/fillted_data.csv',index=False)"
   ]
  },
  {
   "cell_type": "code",
   "execution_count": null,
   "metadata": {},
   "outputs": [],
   "source": []
  }
 ],
 "metadata": {
  "interpreter": {
   "hash": "417aa5a691edbcca8f1cc5d88d97995959f2d0c2df84b40aefce63ae582fb6fe"
  },
  "kernelspec": {
   "display_name": "Python 3.8.8 64-bit ('base': conda)",
   "language": "python",
   "name": "python3"
  },
  "language_info": {
   "codemirror_mode": {
    "name": "ipython",
    "version": 3
   },
   "file_extension": ".py",
   "mimetype": "text/x-python",
   "name": "python",
   "nbconvert_exporter": "python",
   "pygments_lexer": "ipython3",
   "version": "3.8.8"
  },
  "orig_nbformat": 4
 },
 "nbformat": 4,
 "nbformat_minor": 2
}
