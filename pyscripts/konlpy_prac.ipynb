{
 "cells": [
  {
   "cell_type": "code",
   "execution_count": 1,
   "metadata": {},
   "outputs": [],
   "source": [
    "import pandas as pd"
   ]
  },
  {
   "cell_type": "code",
   "execution_count": 2,
   "metadata": {},
   "outputs": [
    {
     "data": {
      "text/html": [
       "<div>\n",
       "<style scoped>\n",
       "    .dataframe tbody tr th:only-of-type {\n",
       "        vertical-align: middle;\n",
       "    }\n",
       "\n",
       "    .dataframe tbody tr th {\n",
       "        vertical-align: top;\n",
       "    }\n",
       "\n",
       "    .dataframe thead th {\n",
       "        text-align: right;\n",
       "    }\n",
       "</style>\n",
       "<table border=\"1\" class=\"dataframe\">\n",
       "  <thead>\n",
       "    <tr style=\"text-align: right;\">\n",
       "      <th></th>\n",
       "      <th>직무명</th>\n",
       "      <th>회사명</th>\n",
       "      <th>위치</th>\n",
       "      <th>자격요건</th>\n",
       "      <th>우대사항</th>\n",
       "    </tr>\n",
       "  </thead>\n",
       "  <tbody>\n",
       "    <tr>\n",
       "      <th>0</th>\n",
       "      <td>앱 개발자</td>\n",
       "      <td>인포메이드</td>\n",
       "      <td>서울.한국</td>\n",
       "      <td>\\n인포메이드의 신규 어플은 서버는 Java, 프론트는 제이쿼리/자바스크립트를 이용...</td>\n",
       "      <td>\\n• Javascript 기반의 UI Component 활용 경험자\\n• 하이브리...</td>\n",
       "    </tr>\n",
       "    <tr>\n",
       "      <th>1</th>\n",
       "      <td>iOS 앱 개발자</td>\n",
       "      <td>시큐차트</td>\n",
       "      <td>서울.한국</td>\n",
       "      <td>\\n• iOS 앱 개발 경력 3년 이상 \\n• Swift/Objective-C의 기...</td>\n",
       "      <td>\\n• iOS 앱 개발 리딩 경험\\n혜택 및 복지\\n• 자유로운 연차/반차 사용\\n...</td>\n",
       "    </tr>\n",
       "    <tr>\n",
       "      <th>2</th>\n",
       "      <td>웹 퍼블리셔</td>\n",
       "      <td>휴먼컨설팅그룹</td>\n",
       "      <td>서울.한국</td>\n",
       "      <td>\\n• Javascript, HTML, CSS3, 접근성, 반응형 웹에 대한 이해도...</td>\n",
       "      <td>\\n• 원할한 커뮤니케이션과 협업 능력자\\n• HR관련 유경험자\\n혜택 및 복지\\n...</td>\n",
       "    </tr>\n",
       "    <tr>\n",
       "      <th>3</th>\n",
       "      <td>모바일 앱 개발자(Mobile Software Engineer)</td>\n",
       "      <td>트리플콤마(골드스푼)</td>\n",
       "      <td>서울.한국</td>\n",
       "      <td>\\n- 개발 경력 3년 이상 혹은 그에 준하는 실력을 보유한 분을 찾습니다.\\n- ...</td>\n",
       "      <td>\\n- 고객 경험 중심으로 생각하며 원활한 커뮤니케이션이 가능하신 분\\n- 기술로써...</td>\n",
       "    </tr>\n",
       "    <tr>\n",
       "      <th>4</th>\n",
       "      <td>웹개발자</td>\n",
       "      <td>크리에이트잇</td>\n",
       "      <td>서울.한국</td>\n",
       "      <td>\\n• 사용자를 배려하고 새로운 기술, 개념을 두려워하지 않고 꾸준히 노력하는 분\\...</td>\n",
       "      <td>\\n• 기본적인 배려와 센스가 있는 분\\n• 사용자의 니즈, 동기, 태도, 행위를 ...</td>\n",
       "    </tr>\n",
       "  </tbody>\n",
       "</table>\n",
       "</div>"
      ],
      "text/plain": [
       "                                   직무명          회사명     위치  \\\n",
       "0                                앱 개발자        인포메이드  서울.한국   \n",
       "1                            iOS 앱 개발자         시큐차트  서울.한국   \n",
       "2                               웹 퍼블리셔      휴먼컨설팅그룹  서울.한국   \n",
       "3  모바일 앱 개발자(Mobile Software Engineer)  트리플콤마(골드스푼)  서울.한국   \n",
       "4                                 웹개발자       크리에이트잇  서울.한국   \n",
       "\n",
       "                                                자격요건  \\\n",
       "0  \\n인포메이드의 신규 어플은 서버는 Java, 프론트는 제이쿼리/자바스크립트를 이용...   \n",
       "1  \\n• iOS 앱 개발 경력 3년 이상 \\n• Swift/Objective-C의 기...   \n",
       "2  \\n• Javascript, HTML, CSS3, 접근성, 반응형 웹에 대한 이해도...   \n",
       "3  \\n- 개발 경력 3년 이상 혹은 그에 준하는 실력을 보유한 분을 찾습니다.\\n- ...   \n",
       "4  \\n• 사용자를 배려하고 새로운 기술, 개념을 두려워하지 않고 꾸준히 노력하는 분\\...   \n",
       "\n",
       "                                                우대사항  \n",
       "0  \\n• Javascript 기반의 UI Component 활용 경험자\\n• 하이브리...  \n",
       "1  \\n• iOS 앱 개발 리딩 경험\\n혜택 및 복지\\n• 자유로운 연차/반차 사용\\n...  \n",
       "2  \\n• 원할한 커뮤니케이션과 협업 능력자\\n• HR관련 유경험자\\n혜택 및 복지\\n...  \n",
       "3  \\n- 고객 경험 중심으로 생각하며 원활한 커뮤니케이션이 가능하신 분\\n- 기술로써...  \n",
       "4  \\n• 기본적인 배려와 센스가 있는 분\\n• 사용자의 니즈, 동기, 태도, 행위를 ...  "
      ]
     },
     "execution_count": 2,
     "metadata": {},
     "output_type": "execute_result"
    }
   ],
   "source": [
    "test_df = pd.read_csv('../data/fillted_data.csv')\n",
    "test_df.head()"
   ]
  },
  {
   "cell_type": "code",
   "execution_count": 3,
   "metadata": {},
   "outputs": [],
   "source": [
    "from konlpy.tag import Okt\n",
    "\n",
    "okt = Okt()\n",
    "req_nouns =[]\n",
    "for require_text in test_df.자격요건.values:\n",
    "  req_nouns.extend(okt.nouns(require_text))"
   ]
  },
  {
   "cell_type": "code",
   "execution_count": 4,
   "metadata": {},
   "outputs": [
    {
     "data": {
      "text/plain": [
       "12928"
      ]
     },
     "execution_count": 4,
     "metadata": {},
     "output_type": "execute_result"
    }
   ],
   "source": [
    "tokens = [n for n in req_nouns]\n",
    "len(tokens)"
   ]
  },
  {
   "cell_type": "code",
   "execution_count": 5,
   "metadata": {},
   "outputs": [
    {
     "name": "stdout",
     "output_type": "stream",
     "text": [
      "12928\n",
      "1417\n",
      "[('분', 974),\n",
      " ('경험', 649),\n",
      " ('개발', 597),\n",
      " ('우대', 475),\n",
      " ('사항', 465),\n",
      " ('이상', 362),\n",
      " ('경력', 338),\n",
      " ('및', 309),\n",
      " ('대한', 254),\n",
      " ('등', 192),\n",
      " ('이해', 177),\n",
      " ('사용', 164),\n",
      " ('보유', 149),\n",
      " ('서비스', 133),\n",
      " ('수', 113),\n",
      " ('운영', 109),\n",
      " ('관련', 100),\n",
      " ('기술', 98),\n",
      " ('웹', 97),\n",
      " ('능력', 96),\n",
      " ('설계', 93),\n",
      " ('활용', 89),\n",
      " ('가능', 86),\n",
      " ('기반', 83),\n",
      " ('서버', 74),\n",
      " ('협업', 74),\n",
      " ('시스템', 74),\n",
      " ('언어', 71),\n",
      " ('를', 68),\n",
      " ('커뮤니케이션', 67)]\n"
     ]
    }
   ],
   "source": [
    "import nltk\n",
    "from pprint import pprint\n",
    "text = nltk.Text(tokens, name='NMSC')\n",
    "\n",
    "# 전체 토큰의 개수\n",
    "print(len(text.tokens))\n",
    "\n",
    "# 중복을 제외한 토큰의 개수\n",
    "print(len(set(text.tokens)))            \n",
    "\n",
    "# 출현 빈도가 높은 상위 토큰 10개\n",
    "pprint(text.vocab().most_common(30))"
   ]
  },
  {
   "cell_type": "code",
   "execution_count": 6,
   "metadata": {},
   "outputs": [
    {
     "data": {
      "text/plain": [
       "3474"
      ]
     },
     "execution_count": 6,
     "metadata": {},
     "output_type": "execute_result"
    }
   ],
   "source": [
    "req_lines =[]\n",
    "for require_text in test_df.자격요건.values:\n",
    "  req_lines.extend(require_text.split('\\n'))\n",
    "\n",
    "len(req_lines)"
   ]
  },
  {
   "cell_type": "code",
   "execution_count": 7,
   "metadata": {},
   "outputs": [
    {
     "name": "stdout",
     "output_type": "stream",
     "text": [
      "3474\n",
      "2143\n",
      "[('', 675),\n",
      " ('우대사항', 452),\n",
      " ('혜택 및 복지', 7),\n",
      " ('•', 6),\n",
      " ('[저희는 이런 분을 찾고 있습니다!]', 5),\n",
      " ('• 경력: 3년 이상', 4),\n",
      " ('• 비즈니스 영어 회화, 작성 스킬 보유', 4),\n",
      " ('- 웹 서비스에 대한 이해', 4),\n",
      " ('- Git에 대한 이해', 4),\n",
      " ('• 사용자를 배려하고 새로운 기술, 개념을 두려워하지 않고 꾸준히 노력하는 분', 3),\n",
      " ('• 빠르게 성장하는 회사와 함께 빠르게 성장하고 싶으신 분', 3),\n",
      " ('• 생각을 시각화 하고 생각의 정리 정돈이 잘 되는 분', 3),\n",
      " ('• 작업 의도와 결과물을 논리적으로 전달해주실 수 있는 분', 3),\n",
      " ('• 모델링 경험이 풍부하거나 자신 있는 분', 3),\n",
      " ('• 읽기 좋은 코드와 복잡성을 줄이고자 꾸준히 고민하시는 분', 3),\n",
      " ('• 영어로 된 기술 문서를 읽는 것에 부담이 없으신 분', 3),\n",
      " ('• 개인의 성장을 위한 학습에 열의가 있으신 분', 3),\n",
      " ('• 코드 리뷰와 지식공유에 적극적이신 분', 3),\n",
      " ('①서류 전형 → ②1차 비대면 화상 면접 → ③2차 대면 면접 → ④합격 발표', 3),\n",
      " ('* 서류 합격자에 한해 연락드릴 예정입니다.', 3),\n",
      " ('* 입사시 3개월의 수습기간이 있습니다.', 3),\n",
      " ('* 본 채용은 수시진행으로, 우수 인력 채용시 조기마감될 수 있습니다.', 3),\n",
      " ('- 자기 동기부여 및 배우고자 하는 의지가 강하신 분', 3),\n",
      " ('• 관련 경력 3년 이상', 3),\n",
      " ('[공통]', 3),\n",
      " ('• 서비스 지향적이며,  아이디어, 기획력이 있으신 분', 3),\n",
      " ('• 새로운 기술에 관심이 많고, 도전적이고 , 열정이 있으신 분', 3),\n",
      " ('• 주도적인 업무 수행과 협업, 적극적으로 소통하시는 분', 3),\n",
      " ('• 자유로운 커뮤니케이션 능력을 가지신 분', 2),\n",
      " ('• node 능숙하게 사용 가능하신분', 2)]\n"
     ]
    }
   ],
   "source": [
    "line = nltk.Text(req_lines, name='NMSC')\n",
    "\n",
    "# 전체 토큰의 개수\n",
    "print(len(line.tokens))\n",
    "\n",
    "# 중복을 제외한 토큰의 개수\n",
    "print(len(set(line.tokens)))            \n",
    "\n",
    "# 출현 빈도가 높은 상위 토큰 10개\n",
    "pprint(line.vocab().most_common(30))"
   ]
  },
  {
   "cell_type": "code",
   "execution_count": 8,
   "metadata": {},
   "outputs": [
    {
     "name": "stdout",
     "output_type": "stream",
     "text": [
      "4558\n",
      "2910\n",
      "[('', 677),\n",
      " ('우대사항', 452),\n",
      " ('CSS', 17),\n",
      " ('• React', 12),\n",
      " ('• HTML', 9),\n",
      " ('• Java', 9),\n",
      " ('HTML', 8),\n",
      " ('Javascript', 8),\n",
      " ('Oracle', 7),\n",
      " ('javascript', 7),\n",
      " ('혜택 및 복지', 7),\n",
      " ('• AWS', 6),\n",
      " ('•', 6),\n",
      " ('Python', 6),\n",
      " ('• PHP', 6),\n",
      " ('JSP', 5),\n",
      " ('• C++', 5),\n",
      " ('TypeScript', 5),\n",
      " ('JQuery', 5),\n",
      " ('[저희는 이런 분을 찾고 있습니다!]', 5),\n",
      " ('- Python', 5),\n",
      " ('Java', 5),\n",
      " ('• Javascript', 4),\n",
      " ('CSS3', 4),\n",
      " ('vue', 4),\n",
      " ('• 경력: 3년 이상', 4),\n",
      " ('개발', 4),\n",
      " ('• 비즈니스 영어 회화', 4),\n",
      " ('작성 스킬 보유', 4),\n",
      " ('디자이너', 4)]\n"
     ]
    }
   ],
   "source": [
    "comma_sep = [sentence.strip() for line in req_lines for sentence in line.split(',')]\n",
    "sentences = nltk.Text(comma_sep, name='NMSC')\n",
    "\n",
    "# 전체 토큰의 개수\n",
    "print(len(sentences.tokens))\n",
    "\n",
    "# 중복을 제외한 토큰의 개수\n",
    "print(len(set(sentences.tokens)))            \n",
    "\n",
    "# 출현 빈도가 높은 상위 토큰 10개\n",
    "pprint(sentences.vocab().most_common(30))"
   ]
  },
  {
   "cell_type": "code",
   "execution_count": 9,
   "metadata": {},
   "outputs": [
    {
     "name": "stdout",
     "output_type": "stream",
     "text": [
      "11231\n",
      "5603\n",
      "[('', 1276),\n",
      " ('혜택 및 복지', 456),\n",
      " ('4대보험', 32),\n",
      " ('연차', 27),\n",
      " ('각종 경조사 지원', 22),\n",
      " ('4대 보험', 21),\n",
      " ('퇴직금', 17),\n",
      " ('반차', 16),\n",
      " ('자유로운 연차사용', 13),\n",
      " ('육아휴직', 13),\n",
      " ('휴게실', 13),\n",
      " ('중식제공', 13),\n",
      " ('10년)', 12),\n",
      " ('워크샵', 12),\n",
      " ('스톡옵션', 12),\n",
      " ('자유복장', 11),\n",
      " ('- 4대보험', 11),\n",
      " ('근로자의 날 휴무', 11),\n",
      " ('간식 제공', 10),\n",
      " ('건강검진', 10),\n",
      " ('사무용품 지급', 10),\n",
      " ('간식 무한 제공', 10),\n",
      " ('음료', 10),\n",
      " ('경조사비', 10),\n",
      " ('장기근속자 포상', 10),\n",
      " ('음료 제공', 9),\n",
      " ('회의실', 9),\n",
      " ('경조휴가', 9),\n",
      " ('- 세미나', 9),\n",
      " ('AWS', 8)]\n"
     ]
    }
   ],
   "source": [
    "adv_lines =[]\n",
    "for adv_text in test_df.우대사항.values:\n",
    "  adv_lines.extend(str(adv_text).split('\\n'))\n",
    "\n",
    "len(adv_lines)\n",
    "adv_comma_sep = [adv_sentence.strip() for adv_line in adv_lines for adv_sentence in adv_line.replace('•',' ').split(',')]\n",
    "adv_sentences = nltk.Text(adv_comma_sep, name='NMSC')\n",
    "\n",
    "# 전체 토큰의 개수\n",
    "print(len(adv_sentences.tokens))\n",
    "\n",
    "# 중복을 제외한 토큰의 개수\n",
    "print(len(set(adv_sentences.tokens)))            \n",
    "\n",
    "# 출현 빈도가 높은 상위 토큰 10개\n",
    "pprint(adv_sentences.vocab().most_common(30))"
   ]
  },
  {
   "cell_type": "code",
   "execution_count": 10,
   "metadata": {},
   "outputs": [
    {
     "name": "stdout",
     "output_type": "stream",
     "text": [
      "4558\n",
      "2863\n",
      "[('', 683),\n",
      " ('우대사항', 452),\n",
      " ('HTML', 18),\n",
      " ('CSS', 18),\n",
      " ('Java', 15),\n",
      " ('React', 14),\n",
      " ('Javascript', 12),\n",
      " ('Python', 11),\n",
      " ('javascript', 10),\n",
      " ('Oracle', 8),\n",
      " ('AWS', 7),\n",
      " ('C++', 7),\n",
      " ('혜택 및 복지', 7),\n",
      " ('PHP', 7),\n",
      " ('JSP', 6),\n",
      " ('TypeScript', 5),\n",
      " ('JQuery', 5),\n",
      " ('[저희는 이런 분을 찾고 있습니다!]', 5),\n",
      " ('- Python', 5),\n",
      " ('CSS3', 4),\n",
      " ('vue', 4),\n",
      " ('경력: 3년 이상', 4),\n",
      " ('C/C++', 4),\n",
      " ('Linux', 4),\n",
      " ('node.js', 4),\n",
      " ('개발', 4),\n",
      " ('웹 접근성', 4),\n",
      " ('비즈니스 영어 회화', 4),\n",
      " ('작성 스킬 보유', 4),\n",
      " ('디자이너', 4)]\n"
     ]
    }
   ],
   "source": [
    "re_comma_sep = [sentence.strip() for line in req_lines for sentence in line.replace('•',' ').split(',')]\n",
    "re_sentences = nltk.Text(re_comma_sep, name='NMSC')\n",
    "\n",
    "# 전체 토큰의 개수\n",
    "print(len(re_sentences.tokens))\n",
    "\n",
    "# 중복을 제외한 토큰의 개수\n",
    "print(len(set(re_sentences.tokens)))            \n",
    "\n",
    "# 출현 빈도가 높은 상위 토큰 10개\n",
    "pprint(re_sentences.vocab().most_common(30))"
   ]
  },
  {
   "cell_type": "code",
   "execution_count": null,
   "metadata": {},
   "outputs": [],
   "source": []
  }
 ],
 "metadata": {
  "interpreter": {
   "hash": "417aa5a691edbcca8f1cc5d88d97995959f2d0c2df84b40aefce63ae582fb6fe"
  },
  "kernelspec": {
   "display_name": "Python 3.8.8 64-bit ('base': conda)",
   "language": "python",
   "name": "python3"
  },
  "language_info": {
   "codemirror_mode": {
    "name": "ipython",
    "version": 3
   },
   "file_extension": ".py",
   "mimetype": "text/x-python",
   "name": "python",
   "nbconvert_exporter": "python",
   "pygments_lexer": "ipython3",
   "version": "3.8.8"
  },
  "orig_nbformat": 4
 },
 "nbformat": 4,
 "nbformat_minor": 2
}
